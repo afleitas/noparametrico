{
 "cells": [
  {
   "cell_type": "code",
   "execution_count": 1,
   "id": "ad3902d5",
   "metadata": {},
   "outputs": [],
   "source": [
    "from utils import *"
   ]
  },
  {
   "cell_type": "code",
   "execution_count": 27,
   "id": "b01f9e0d",
   "metadata": {},
   "outputs": [],
   "source": [
    "import pandas as pd\n",
    "import numpy as np\n",
    "from scipy import stats\n",
    "from scipy.stats import binom\n",
    "from scipy.stats import binomtest\n",
    "import matplotlib.pyplot as plt\n"
   ]
  },
  {
   "cell_type": "markdown",
   "id": "add6fdae",
   "metadata": {},
   "source": [
    "Para calcular probabilidades con la binomial tengo\n",
    "\n",
    "* puntual :  binom.pmf(x, n, p)\n",
    "* acumulada : binom.cdf(x, n, p)"
   ]
  },
  {
   "cell_type": "markdown",
   "id": "5b5c758b",
   "metadata": {},
   "source": [
    "#### Ejercicio 1 "
   ]
  },
  {
   "cell_type": "markdown",
   "id": "b31711d5",
   "metadata": {},
   "source": [
    "Ho: p=0.7 \n",
    "\n",
    "H1: p<0.7"
   ]
  },
  {
   "cell_type": "code",
   "execution_count": 5,
   "id": "5b83deaf",
   "metadata": {},
   "outputs": [],
   "source": [
    "n = 15\n",
    "p = 0.7\n",
    "r = 7"
   ]
  },
  {
   "cell_type": "markdown",
   "id": "b8aeb01c",
   "metadata": {},
   "source": [
    "a - Calcular nivel de significacion del test"
   ]
  },
  {
   "cell_type": "code",
   "execution_count": 13,
   "id": "6422b19f",
   "metadata": {},
   "outputs": [
    {
     "data": {
      "text/plain": [
       "0.05001254005377603"
      ]
     },
     "execution_count": 13,
     "metadata": {},
     "output_type": "execute_result"
    }
   ],
   "source": [
    "# se rechaza cuando T<=7, alfa sera la probabildiad de reachazar H0 con H0 verdadera, entonces\n",
    "\n",
    "alfa = binom.cdf(7,n,p)\n",
    "alfa"
   ]
  },
  {
   "cell_type": "markdown",
   "id": "d8b50fc0",
   "metadata": {},
   "source": [
    "b - Funcion de potencia y probabilidad tipo 2 con p=0.5 y p=0.3"
   ]
  },
  {
   "cell_type": "markdown",
   "id": "e9503e04",
   "metadata": {},
   "source": [
    "Potencia, probabilidad de rechazar Ho con Ho Falsa"
   ]
  },
  {
   "cell_type": "code",
   "execution_count": 16,
   "id": "9c306ac8",
   "metadata": {},
   "outputs": [
    {
     "name": "stdout",
     "output_type": "stream",
     "text": [
      "0.5000000000000001 0.949987459946224\n"
     ]
    }
   ],
   "source": [
    "potencia_1 = binom.cdf(7,n,0.5)\n",
    "potencia_2 = binom.cdf(7,n,0.3)\n",
    "print(potencia_1,potencia_2)"
   ]
  },
  {
   "cell_type": "code",
   "execution_count": 24,
   "id": "e117ccd4",
   "metadata": {},
   "outputs": [
    {
     "data": {
      "text/plain": [
       "<matplotlib.collections.PathCollection at 0x1ee23e60790>"
      ]
     },
     "execution_count": 24,
     "metadata": {},
     "output_type": "execute_result"
    },
    {
     "data": {
      "image/png": "[encoded data removed]",
      "text/plain": [
       "<Figure size 432x288 with 1 Axes>"
      ]
     },
     "metadata": {
      "needs_background": "light"
     },
     "output_type": "display_data"
    }
   ],
   "source": [
    "# No lo pide pero dibujo una funcion de potencia para ver como quedaria para mas valores de p posibles dentro de H1\n",
    "\n",
    "potencias = []\n",
    "xs = []\n",
    "for x in np.linspace(0.1, 0.7, num=100):\n",
    "    xs.append(x)\n",
    "    potencias.append(binom.cdf(7,n,x))\n",
    "plt.scatter(xs,potencias)"
   ]
  },
  {
   "cell_type": "markdown",
   "id": "f0dcaeea",
   "metadata": {},
   "source": [
    "c - Si en una muestra de tamaño 15 se obtuvieron 9 respuestas exitosas, concluir acerca del valor de\n",
    "p. ¿Que tipo de error puede cometerse al llegar a esa conclusion?"
   ]
  },
  {
   "cell_type": "markdown",
   "id": "50feae5a",
   "metadata": {},
   "source": [
    "Uso las dos formas"
   ]
  },
  {
   "cell_type": "code",
   "execution_count": 31,
   "id": "3282ba03",
   "metadata": {},
   "outputs": [
    {
     "data": {
      "text/plain": [
       "BinomTestResult(k=9, n=15, alternative='less', proportion_estimate=0.6, pvalue=0.2783785597956361)"
      ]
     },
     "execution_count": 31,
     "metadata": {},
     "output_type": "execute_result"
    }
   ],
   "source": [
    "binomtest(9, n=15, p=0.7, alternative='less')\n"
   ]
  },
  {
   "cell_type": "code",
   "execution_count": 32,
   "id": "41563174",
   "metadata": {},
   "outputs": [
    {
     "data": {
      "text/plain": [
       "{'nivel_significacion': 0.05001254005377603,\n",
       " 'k': 8,\n",
       " 'p_estimado': 0.6,\n",
       " 'pvalor': 0.2783785597956361}"
      ]
     },
     "execution_count": 32,
     "metadata": {},
     "output_type": "execute_result"
    }
   ],
   "source": [
    "test_binomial(9,15,0.7,alfa,\"izquierda\")"
   ]
  },
  {
   "cell_type": "markdown",
   "id": "45a91597",
   "metadata": {},
   "source": [
    "Como el p valor > alfa entonces, no rechazo H0. Como no rechace Ho, puede ser que este aceptando H0 siendo esta falsa, puedo estar cometiendo el error tipo 2."
   ]
  },
  {
   "cell_type": "code",
   "execution_count": null,
   "id": "57598bf0",
   "metadata": {},
   "outputs": [],
   "source": []
  }
 ],
 "metadata": {
  "kernelspec": {
   "display_name": "Python 3 (ipykernel)",
   "language": "python",
   "name": "python3"
  },
  "language_info": {
   "codemirror_mode": {
    "name": "ipython",
    "version": 3
   },
   "file_extension": ".py",
   "mimetype": "text/x-python",
   "name": "python",
   "nbconvert_exporter": "python",
   "pygments_lexer": "ipython3",
   "version": "3.8.8"
  }
 },
 "nbformat": 4,
 "nbformat_minor": 5
}
