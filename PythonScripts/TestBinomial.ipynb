{
 "cells": [
  {
   "cell_type": "code",
   "execution_count": 3,
   "id": "a7605bb9",
   "metadata": {},
   "outputs": [],
   "source": [
    "import pandas as pd\n",
    "import numpy as np\n",
    "from scipy import stats\n",
    "from scipy.stats import binom"
   ]
  },
  {
   "cell_type": "markdown",
   "id": "8d71f73e",
   "metadata": {},
   "source": [
    "Ver ejemplo aca \n",
    "\n",
    "* https://docs.scipy.org/doc/scipy/reference/generated/scipy.stats.binomtest.html"
   ]
  },
  {
   "cell_type": "markdown",
   "id": "4a6ba49f",
   "metadata": {},
   "source": [
    "Ejemplo libro Martinez, Nota 2 pag 23"
   ]
  },
  {
   "cell_type": "code",
   "execution_count": 124,
   "id": "c071658f",
   "metadata": {},
   "outputs": [
    {
     "data": {
      "text/plain": [
       "1001"
      ]
     },
     "execution_count": 124,
     "metadata": {},
     "output_type": "execute_result"
    }
   ],
   "source": [
    "ps = np.linspace(0,1,1001)\n",
    "alfa = (1-.95)/2\n",
    "r=7 \n",
    "n=20 \n",
    "len(ps)"
   ]
  },
  {
   "cell_type": "code",
   "execution_count": 159,
   "id": "62deeefa",
   "metadata": {},
   "outputs": [],
   "source": [
    "def binomial_interval(alfa,ps,r,n):\n",
    "    liminf = []\n",
    "    limsup = []\n",
    "    for x in range(1,len(ps)):\n",
    "        liminf.append(binom.cdf(r-1, n, ps[x-1]))\n",
    "        limsup.append(binom.cdf(r, n, ps[x-1]))    \n",
    "    minp=[]\n",
    "    maxp=[]\n",
    "    for p in range(2,len(ps)):\n",
    "        if liminf[p-1]<=(1-alfa) and liminf[p-2]>(1-alfa):\n",
    "            minp.append(ps[p-2])\n",
    "        if limsup[p-1]<=(alfa) and limsup[p-2]>(alfa):\n",
    "            maxp.append(ps[p-2])\n",
    "    return  tuple([minp,maxp])"
   ]
  },
  {
   "cell_type": "code",
   "execution_count": 160,
   "id": "594c6af7",
   "metadata": {},
   "outputs": [
    {
     "data": {
      "text/plain": [
       "([0.153], [0.592])"
      ]
     },
     "execution_count": 160,
     "metadata": {},
     "output_type": "execute_result"
    }
   ],
   "source": [
    "binomial_interval(alfa,ps,r,n)"
   ]
  },
  {
   "cell_type": "code",
   "execution_count": null,
   "id": "174393bf",
   "metadata": {},
   "outputs": [],
   "source": []
  }
 ],
 "metadata": {
  "kernelspec": {
   "display_name": "Python 3 (ipykernel)",
   "language": "python",
   "name": "python3"
  },
  "language_info": {
   "codemirror_mode": {
    "name": "ipython",
    "version": 3
   },
   "file_extension": ".py",
   "mimetype": "text/x-python",
   "name": "python",
   "nbconvert_exporter": "python",
   "pygments_lexer": "ipython3",
   "version": "3.8.8"
  }
 },
 "nbformat": 4,
 "nbformat_minor": 5
}
