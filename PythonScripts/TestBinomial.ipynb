{
 "cells": [
  {
   "cell_type": "code",
   "execution_count": 2,
   "id": "2701893b",
   "metadata": {},
   "outputs": [],
   "source": [
    "import pandas as pd\n",
    "import numpy as np\n",
    "from scipy import stats\n",
    "from scipy.stats import binom\n",
    "from scipy.stats import binomtest"
   ]
  },
  {
   "cell_type": "code",
   "execution_count": 208,
   "id": "b8407a8e",
   "metadata": {},
   "outputs": [
    {
     "data": {
      "text/plain": [
       "1001"
      ]
     },
     "execution_count": 208,
     "metadata": {},
     "output_type": "execute_result"
    }
   ],
   "source": [
    "ps = np.linspace(0,1,1001)\n",
    "alfa = (1-.95)/2\n",
    "r=7 \n",
    "n=20 \n",
    "len(ps)"
   ]
  },
  {
   "cell_type": "markdown",
   "id": "e19e13d6",
   "metadata": {},
   "source": [
    "#### Intervalo Binomial Exacto"
   ]
  },
  {
   "cell_type": "code",
   "execution_count": 221,
   "id": "c678ca16",
   "metadata": {},
   "outputs": [],
   "source": [
    "def binomial_interval(alfa,ps,r,n):\n",
    "    liminf = []\n",
    "    limsup = []\n",
    "    for x in range(1,len(ps)):\n",
    "        liminf.append(binom.cdf(r-1, n, ps[x-1]))\n",
    "        limsup.append(binom.cdf(r, n, ps[x-1]))    \n",
    "    minp=[]\n",
    "    maxp=[]\n",
    "    for p in range(2,len(ps)):\n",
    "        if liminf[p-1]<=(1-alfa) and liminf[p-2]>(1-alfa):\n",
    "            minp.append(ps[p-2])\n",
    "        if limsup[p-1]<=(alfa) and limsup[p-2]>(alfa):\n",
    "            maxp.append(ps[p-2])\n",
    "    return  {'Li':minp[0],'Ls':maxp[0]} "
   ]
  },
  {
   "cell_type": "code",
   "execution_count": 222,
   "id": "1decbbe3",
   "metadata": {},
   "outputs": [
    {
     "data": {
      "text/plain": [
       "{'Li': 0.153, 'Ls': 0.592}"
      ]
     },
     "execution_count": 222,
     "metadata": {},
     "output_type": "execute_result"
    }
   ],
   "source": [
    "binomial_interval(alfa,ps,r,n)"
   ]
  },
  {
   "cell_type": "markdown",
   "id": "5d70a6ff",
   "metadata": {},
   "source": [
    "#### Test Binomial Exacto "
   ]
  },
  {
   "cell_type": "code",
   "execution_count": 200,
   "id": "b57bd47e",
   "metadata": {},
   "outputs": [],
   "source": [
    "def test_binomial(r,n,p0,tipo:str):\n",
    "\n",
    "    if tipo==\"izquierda\":\n",
    "        \n",
    "        nivel_significacion=[]\n",
    "        k=[]\n",
    "        \n",
    "        for x in range(0,n+1):\n",
    "            if binom.cdf(x, n, p0)<= alfa:\n",
    "                nivel_significacion.append(binom.cdf(x, n, p0))\n",
    "                k.append(x)\n",
    "        \n",
    "        nivel_significacion = np.max(nivel_significacion)\n",
    "        k = np.max(k)+1\n",
    "        pvalor = binom.cdf(r, n, p0)        \n",
    "        output = {'nivel_significacion': nivel_significacion, 'k': k,'p_estimado':r/n ,'pvalor':pvalor}\n",
    "        \n",
    "    \n",
    "\n",
    "    if tipo==\"derecha\":\n",
    "        \n",
    "        nivel_significacion=[]\n",
    "        k=[]\n",
    "        \n",
    "        for x in range(0,n+1):\n",
    "            if binom.cdf(x, n, p0)>alfa:\n",
    "                nivel_significacion.append(binom.cdf(x, n, p0))\n",
    "                k.append(x)\n",
    "                \n",
    "        nivel_significacion = np.min(nivel_significacion)\n",
    "        k = np.min(k)\n",
    "        pvalor = 1-binom.cdf(r-1, n, p0)        \n",
    "        output = {'nivel_significacion': nivel_significacion, 'k': k,'p_estimado':r/n, 'pvalor':pvalor}\n",
    "        \n",
    "\n",
    "    if tipo==\"bilateral\":\n",
    "        \n",
    "        nivel_significacion=[]\n",
    "        k=[]\n",
    "        \n",
    "        for x in range(0,n+1):\n",
    "            if binom.cdf(x, n, p0)<= alfa/2:\n",
    "                nivel_significacion.append(binom.cdf(x, n, p0))\n",
    "                k.append(x)\n",
    "        \n",
    "        nivel_significacion = np.max(nivel_significacion)\n",
    "        k = np.max(k)+1\n",
    "        pvalor = binom.cdf(r, n, p0)*2        \n",
    "        output = {'nivel_significacion': nivel_significacion, 'k': k,'p_estimado':r/n ,'pvalor':pvalor}\n",
    "        \n",
    "                \n",
    "    return output\n",
    "       "
   ]
  },
  {
   "cell_type": "code",
   "execution_count": 216,
   "id": "2d804d87",
   "metadata": {},
   "outputs": [
    {
     "data": {
      "text/plain": [
       "{'nivel_significacion': 0.01596116279000825,\n",
       " 'k': 4,\n",
       " 'p_estimado': 0.35,\n",
       " 'pvalor': 0.41589293755753554}"
      ]
     },
     "execution_count": 216,
     "metadata": {},
     "output_type": "execute_result"
    }
   ],
   "source": [
    "test_binomial(7,20,0.4,\"izquierda\")"
   ]
  },
  {
   "cell_type": "code",
   "execution_count": null,
   "id": "330f5ab0",
   "metadata": {},
   "outputs": [],
   "source": []
  },
  {
   "cell_type": "markdown",
   "id": "b3edcdd5",
   "metadata": {},
   "source": [
    "##### Usando la libreria stats para comparar\n",
    "\n",
    "Ver ejemplo aca \n",
    "\n",
    "* https://docs.scipy.org/doc/scipy/reference/generated/scipy.stats.binomtest.html"
   ]
  },
  {
   "cell_type": "code",
   "execution_count": 214,
   "id": "3eb72cf6",
   "metadata": {},
   "outputs": [
    {
     "data": {
      "text/plain": [
       "BinomTestResult(k=7, n=20, alternative='less', proportion_estimate=0.35, pvalue=0.41589293755753554)"
      ]
     },
     "execution_count": 214,
     "metadata": {},
     "output_type": "execute_result"
    }
   ],
   "source": [
    "result = stats.binomtest(7, n=20, p=0.4, alternative='less')\n",
    "result"
   ]
  },
  {
   "cell_type": "code",
   "execution_count": null,
   "id": "5f369525",
   "metadata": {},
   "outputs": [],
   "source": []
  },
  {
   "cell_type": "code",
   "execution_count": null,
   "id": "a41349b4",
   "metadata": {},
   "outputs": [],
   "source": []
  },
  {
   "cell_type": "code",
   "execution_count": null,
   "id": "64a8311a",
   "metadata": {},
   "outputs": [],
   "source": []
  }
 ],
 "metadata": {
  "kernelspec": {
   "display_name": "Python 3 (ipykernel)",
   "language": "python",
   "name": "python3"
  },
  "language_info": {
   "codemirror_mode": {
    "name": "ipython",
    "version": 3
   },
   "file_extension": ".py",
   "mimetype": "text/x-python",
   "name": "python",
   "nbconvert_exporter": "python",
   "pygments_lexer": "ipython3",
   "version": "3.8.8"
  }
 },
 "nbformat": 4,
 "nbformat_minor": 5
}
