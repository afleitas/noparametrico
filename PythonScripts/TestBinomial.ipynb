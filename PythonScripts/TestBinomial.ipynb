{
 "cells": [
  {
   "cell_type": "code",
   "execution_count": 2,
   "id": "d76b71bb",
   "metadata": {},
   "outputs": [],
   "source": [
    "import pandas as pd\n",
    "import numpy as np\n",
    "from scipy import stats\n",
    "from scipy.stats import binom\n",
    "from scipy.stats import binomtest"
   ]
  },
  {
   "cell_type": "code",
   "execution_count": 3,
   "id": "d89dc69e",
   "metadata": {},
   "outputs": [
    {
     "data": {
      "text/plain": [
       "1001"
      ]
     },
     "execution_count": 3,
     "metadata": {},
     "output_type": "execute_result"
    }
   ],
   "source": [
    "ps = np.linspace(0,1,1001)\n",
    "alfa = (1-.95)/2\n",
    "r=7 \n",
    "n=20 \n",
    "len(ps)"
   ]
  },
  {
   "cell_type": "markdown",
   "id": "22651df2",
   "metadata": {},
   "source": [
    "#### Intervalo Binomial Exacto"
   ]
  },
  {
   "cell_type": "code",
   "execution_count": 4,
   "id": "d53949e2",
   "metadata": {},
   "outputs": [],
   "source": [
    "def binomial_interval(alfa,ps,r,n):\n",
    "    liminf = []\n",
    "    limsup = []\n",
    "    for x in range(1,len(ps)):\n",
    "        liminf.append(binom.cdf(r-1, n, ps[x-1]))\n",
    "        limsup.append(binom.cdf(r, n, ps[x-1]))    \n",
    "    minp=[]\n",
    "    maxp=[]\n",
    "    for p in range(2,len(ps)):\n",
    "        if liminf[p-1]<=(1-alfa) and liminf[p-2]>(1-alfa):\n",
    "            minp.append(ps[p-2])\n",
    "        if limsup[p-1]<=(alfa) and limsup[p-2]>(alfa):\n",
    "            maxp.append(ps[p-2])\n",
    "    return  {'Li':minp[0],'Ls':maxp[0]} "
   ]
  },
  {
   "cell_type": "code",
   "execution_count": 5,
   "id": "708a4540",
   "metadata": {},
   "outputs": [
    {
     "data": {
      "text/plain": [
       "{'Li': 0.153, 'Ls': 0.592}"
      ]
     },
     "execution_count": 5,
     "metadata": {},
     "output_type": "execute_result"
    }
   ],
   "source": [
    "binomial_interval(alfa,ps,r,n)"
   ]
  },
  {
   "cell_type": "code",
   "execution_count": 7,
   "id": "f851579a",
   "metadata": {},
   "outputs": [
    {
     "data": {
      "text/plain": [
       "0.025000000000000022"
      ]
     },
     "execution_count": 7,
     "metadata": {},
     "output_type": "execute_result"
    }
   ],
   "source": [
    "alfa"
   ]
  },
  {
   "cell_type": "code",
   "execution_count": 6,
   "id": "da442d8b",
   "metadata": {},
   "outputs": [
    {
     "data": {
      "text/plain": [
       "{'Li': 0.032, 'Ls': 0.378}"
      ]
     },
     "execution_count": 6,
     "metadata": {},
     "output_type": "execute_result"
    }
   ],
   "source": [
    "binomial_interval(alfa,ps,3,20)"
   ]
  },
  {
   "cell_type": "markdown",
   "id": "e0db5b67",
   "metadata": {},
   "source": [
    "#### Test Binomial Exacto "
   ]
  },
  {
   "cell_type": "code",
   "execution_count": 1,
   "id": "5fabd908",
   "metadata": {},
   "outputs": [],
   "source": [
    "def test_binomial(r,n,p0,alfa,tipo:str):\n",
    "\n",
    "    if tipo==\"izquierda\":\n",
    "        \n",
    "        nivel_significacion=[]\n",
    "        k=[]\n",
    "        \n",
    "        for x in range(0,n+1):\n",
    "            if binom.cdf(x, n, p0)<= alfa:\n",
    "                nivel_significacion.append(binom.cdf(x, n, p0))\n",
    "                k.append(x)\n",
    "        \n",
    "        nivel_significacion = np.max(nivel_significacion)\n",
    "        k = np.max(k)+1\n",
    "        pvalor = binom.cdf(r, n, p0)        \n",
    "        \n",
    "    \n",
    "\n",
    "    if tipo==\"derecha\":\n",
    "        \n",
    "        nivel_significacion=[]\n",
    "        k=[]\n",
    "        \n",
    "        for x in range(0,n+1):\n",
    "            if binom.cdf(x, n, p0)>alfa:\n",
    "                nivel_significacion.append(binom.cdf(x, n, p0))\n",
    "                k.append(x)\n",
    "                \n",
    "        nivel_significacion = np.min(nivel_significacion)\n",
    "        k = np.min(k)\n",
    "        pvalor = 1-binom.cdf(r-1, n, p0)        \n",
    "        \n",
    "\n",
    "    if tipo==\"bilateral\":\n",
    "        \n",
    "        nivel_significacion=[]\n",
    "        k=[]\n",
    "        \n",
    "        for x in range(0,n+1):\n",
    "            if binom.cdf(x, n, p0)<= alfa/2:\n",
    "                nivel_significacion.append(binom.cdf(x, n, p0))\n",
    "                k.append(x)\n",
    "        \n",
    "        nivel_significacion = np.max(nivel_significacion)\n",
    "        k = np.max(k)+1\n",
    "        pvalor = binom.cdf(r, n, p0)*2        \n",
    "        \n",
    "                \n",
    "    return {'nivel_significacion': nivel_significacion, 'k': k,'p_estimado':r/n ,'pvalor':pvalor}\n",
    "\n",
    "       "
   ]
  },
  {
   "cell_type": "code",
   "execution_count": 5,
   "id": "e425f59b",
   "metadata": {},
   "outputs": [
    {
     "data": {
      "text/plain": [
       "{'nivel_significacion': 0.01596116279000825,\n",
       " 'k': 4,\n",
       " 'p_estimado': 0.35,\n",
       " 'pvalor': 0.41589293755753554}"
      ]
     },
     "execution_count": 5,
     "metadata": {},
     "output_type": "execute_result"
    }
   ],
   "source": [
    "test_binomial(7,20,0.4,0.05,\"izquierda\")"
   ]
  },
  {
   "cell_type": "code",
   "execution_count": null,
   "id": "7c30b780",
   "metadata": {},
   "outputs": [],
   "source": []
  },
  {
   "cell_type": "markdown",
   "id": "3c79398b",
   "metadata": {},
   "source": [
    "##### Usando la libreria stats para comparar\n",
    "\n",
    "Ver ejemplo aca \n",
    "\n",
    "* https://docs.scipy.org/doc/scipy/reference/generated/scipy.stats.binomtest.html"
   ]
  },
  {
   "cell_type": "code",
   "execution_count": 1,
   "id": "0d0bc6be",
   "metadata": {},
   "outputs": [
    {
     "ename": "NameError",
     "evalue": "name 'stats' is not defined",
     "output_type": "error",
     "traceback": [
      "\u001b[1;31m---------------------------------------------------------------------------\u001b[0m",
      "\u001b[1;31mNameError\u001b[0m                                 Traceback (most recent call last)",
      "\u001b[1;32m~\\AppData\\Local\\Temp/ipykernel_6492/972726159.py\u001b[0m in \u001b[0;36m<module>\u001b[1;34m\u001b[0m\n\u001b[1;32m----> 1\u001b[1;33m \u001b[0mresult\u001b[0m \u001b[1;33m=\u001b[0m \u001b[0mstats\u001b[0m\u001b[1;33m.\u001b[0m\u001b[0mbinomtest\u001b[0m\u001b[1;33m(\u001b[0m\u001b[1;36m7\u001b[0m\u001b[1;33m,\u001b[0m \u001b[0mn\u001b[0m\u001b[1;33m=\u001b[0m\u001b[1;36m20\u001b[0m\u001b[1;33m,\u001b[0m \u001b[0mp\u001b[0m\u001b[1;33m=\u001b[0m\u001b[1;36m0.4\u001b[0m\u001b[1;33m,\u001b[0m \u001b[0malternative\u001b[0m\u001b[1;33m=\u001b[0m\u001b[1;34m'two-sided'\u001b[0m\u001b[1;33m)\u001b[0m\u001b[1;33m\u001b[0m\u001b[1;33m\u001b[0m\u001b[0m\n\u001b[0m\u001b[0;32m      2\u001b[0m \u001b[0mresult\u001b[0m\u001b[1;33m\u001b[0m\u001b[1;33m\u001b[0m\u001b[0m\n",
      "\u001b[1;31mNameError\u001b[0m: name 'stats' is not defined"
     ]
    }
   ],
   "source": [
    "result = stats.binomtest(7, n=20, p=0.4, alternative='less')\n",
    "result"
   ]
  },
  {
   "cell_type": "code",
   "execution_count": null,
   "id": "a0c934cb",
   "metadata": {},
   "outputs": [],
   "source": []
  },
  {
   "cell_type": "code",
   "execution_count": null,
   "id": "4553e486",
   "metadata": {},
   "outputs": [],
   "source": []
  },
  {
   "cell_type": "code",
   "execution_count": null,
   "id": "052ca0bb",
   "metadata": {},
   "outputs": [],
   "source": []
  }
 ],
 "metadata": {
  "kernelspec": {
   "display_name": "Python 3 (ipykernel)",
   "language": "python",
   "name": "python3"
  },
  "language_info": {
   "codemirror_mode": {
    "name": "ipython",
    "version": 3
   },
   "file_extension": ".py",
   "mimetype": "text/x-python",
   "name": "python",
   "nbconvert_exporter": "python",
   "pygments_lexer": "ipython3",
   "version": "3.8.8"
  }
 },
 "nbformat": 4,
 "nbformat_minor": 5
}
