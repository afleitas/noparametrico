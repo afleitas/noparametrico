{
 "cells": [
  {
   "cell_type": "code",
   "execution_count": 1,
   "id": "3ab629a7",
   "metadata": {},
   "outputs": [],
   "source": [
    "from scipy.stats import wilcoxon"
   ]
  },
  {
   "cell_type": "code",
   "execution_count": 5,
   "id": "2e7c15d9",
   "metadata": {},
   "outputs": [],
   "source": [
    "d = [22, 9, 4, 5, 1, 16, 15, 26, 47, 8, 31, 7]\n",
    "\n",
    "dc = []\n",
    "for x in d:\n",
    "    dc.append(x-10)"
   ]
  },
  {
   "cell_type": "code",
   "execution_count": 7,
   "id": "21559c8d",
   "metadata": {},
   "outputs": [
    {
     "data": {
      "text/plain": [
       "WilcoxonResult(statistic=25.0, pvalue=0.30126953125)"
      ]
     },
     "execution_count": 7,
     "metadata": {},
     "output_type": "execute_result"
    }
   ],
   "source": [
    "wilcoxon(dc)"
   ]
  },
  {
   "cell_type": "code",
   "execution_count": null,
   "id": "964f73ba",
   "metadata": {},
   "outputs": [],
   "source": []
  }
 ],
 "metadata": {
  "kernelspec": {
   "display_name": "Python 3 (ipykernel)",
   "language": "python",
   "name": "python3"
  },
  "language_info": {
   "codemirror_mode": {
    "name": "ipython",
    "version": 3
   },
   "file_extension": ".py",
   "mimetype": "text/x-python",
   "name": "python",
   "nbconvert_exporter": "python",
   "pygments_lexer": "ipython3",
   "version": "3.8.8"
  }
 },
 "nbformat": 4,
 "nbformat_minor": 5
}
