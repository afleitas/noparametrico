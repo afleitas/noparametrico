{
 "cells": [
  {
   "cell_type": "code",
   "execution_count": 3,
   "id": "45567257",
   "metadata": {},
   "outputs": [],
   "source": [
    "import pandas as pd\n",
    "import numpy as np\n",
    "from scipy import stats\n",
    "from scipy.stats import binom"
   ]
  },
  {
   "cell_type": "markdown",
   "id": "940de1ff",
   "metadata": {},
   "source": [
    "Ver ejemplo aca \n",
    "\n",
    "* https://docs.scipy.org/doc/scipy/reference/generated/scipy.stats.binomtest.html"
   ]
  },
  {
   "cell_type": "code",
   "execution_count": 124,
   "id": "0e58d2ff",
   "metadata": {},
   "outputs": [
    {
     "data": {
      "text/plain": [
       "1001"
      ]
     },
     "execution_count": 124,
     "metadata": {},
     "output_type": "execute_result"
    }
   ],
   "source": [
    "ps = np.linspace(0,1,1001)\n",
    "alfa = (1-.95)/2\n",
    "r=7 \n",
    "n=20 \n",
    "len(ps)"
   ]
  },
  {
   "cell_type": "code",
   "execution_count": 131,
   "id": "3a4482b7",
   "metadata": {},
   "outputs": [
    {
     "data": {
      "text/plain": [
       "'\\nfor (i in 1:1001) \\n{ \\n  limi[i]<-pbinom(x-1,nn,a[i]) \\n  lims[i]<-pbinom(x,nn,a[i]) \\n} \\nfor (i in 2:1001) \\n{ \\n  if (limi[i]<=(1-alfa) && limi[i-1]>(1-alfa)) low<-a[i-1] \\n  if (lims[i]<=alfa && lims[i-1]>alfa) lup<-a[i-1] \\n}\\n'"
      ]
     },
     "execution_count": 131,
     "metadata": {},
     "output_type": "execute_result"
    }
   ],
   "source": [
    "\"\"\"\n",
    "for (i in 1:1001) \n",
    "{ \n",
    "  limi[i]<-pbinom(x-1,nn,a[i]) \n",
    "  lims[i]<-pbinom(x,nn,a[i]) \n",
    "} \n",
    "for (i in 2:1001) \n",
    "{ \n",
    "  if (limi[i]<=(1-alfa) && limi[i-1]>(1-alfa)) low<-a[i-1] \n",
    "  if (lims[i]<=alfa && lims[i-1]>alfa) lup<-a[i-1] \n",
    "}\n",
    "\"\"\""
   ]
  },
  {
   "cell_type": "code",
   "execution_count": 142,
   "id": "28b2228d",
   "metadata": {},
   "outputs": [],
   "source": [
    "liminf = []\n",
    "limsup = []\n",
    "for x in range(1,len(ps)):\n",
    "    liminf.append(binom.cdf(r-1, n, ps[x-1]))\n",
    "    limsup.append(binom.cdf(r, n, ps[x-1]))    "
   ]
  },
  {
   "cell_type": "code",
   "execution_count": 143,
   "id": "8248f397",
   "metadata": {},
   "outputs": [
    {
     "data": {
      "text/plain": [
       "(3.854345208705251e-38, 1.0, 0.3338333333333333)"
      ]
     },
     "execution_count": 143,
     "metadata": {},
     "output_type": "execute_result"
    }
   ],
   "source": [
    "np.min(liminf),np.max(liminf),np.mean(liminf)"
   ]
  },
  {
   "cell_type": "code",
   "execution_count": 139,
   "id": "32a977ee",
   "metadata": {},
   "outputs": [],
   "source": [
    "for p in range(2,len(ps)):\n",
    "    liminf[p-1]\n"
   ]
  },
  {
   "cell_type": "code",
   "execution_count": 146,
   "id": "7efe97bd",
   "metadata": {},
   "outputs": [],
   "source": [
    "minp=[]\n",
    "maxp=[]\n",
    "for p in range(2,len(ps)):\n",
    "    if liminf[p-1]<=(1-alfa) and liminf[p-2]>(1-alfa):\n",
    "        minp.append(ps[p-2])\n",
    "    if limsup[p-1]<=(alfa) and limsup[p-2]>(alfa):\n",
    "        maxp.append(ps[p-2])\n",
    "                "
   ]
  },
  {
   "cell_type": "code",
   "execution_count": 148,
   "id": "d43b28a9",
   "metadata": {},
   "outputs": [
    {
     "data": {
      "text/plain": [
       "[0.153]"
      ]
     },
     "execution_count": 148,
     "metadata": {},
     "output_type": "execute_result"
    }
   ],
   "source": [
    "minp"
   ]
  },
  {
   "cell_type": "code",
   "execution_count": null,
   "id": "99efb4d6",
   "metadata": {},
   "outputs": [],
   "source": []
  },
  {
   "cell_type": "code",
   "execution_count": 46,
   "id": "9c52191b",
   "metadata": {},
   "outputs": [
    {
     "name": "stdout",
     "output_type": "stream",
     "text": [
      "0.5715715715715716\n"
     ]
    }
   ],
   "source": [
    "for index, p in enumerate(ps):\n",
    "#    if (index+1 < len(ps) and index-1 >= 0):        \n",
    "    if binom.pmf(r-1, n, ps[index])<=(1-alfa) and binom.pmf(r-1, n, ps[index-1])>(1-alfa):\n",
    "        print(ps[index-1])\n",
    "#        liminf.append(ps[index-1])\n",
    "    if binom.pmf(r, n, ps[index])<=(alfa) and binom.pmf(r, n, ps[index-1])>(alfa):\n",
    "        print(ps[index-1])\n",
    "#        limsup.append(ps[index-1])\n",
    "                "
   ]
  },
  {
   "cell_type": "code",
   "execution_count": 38,
   "id": "54bfafad",
   "metadata": {},
   "outputs": [
    {
     "data": {
      "text/plain": [
       "[0.5715715715715716]"
      ]
     },
     "execution_count": 38,
     "metadata": {},
     "output_type": "execute_result"
    }
   ],
   "source": [
    "liminf\n",
    "limsup\n"
   ]
  },
  {
   "cell_type": "code",
   "execution_count": null,
   "id": "5403e85c",
   "metadata": {},
   "outputs": [],
   "source": []
  },
  {
   "cell_type": "code",
   "execution_count": null,
   "id": "54783045",
   "metadata": {},
   "outputs": [],
   "source": []
  }
 ],
 "metadata": {
  "kernelspec": {
   "display_name": "Python 3 (ipykernel)",
   "language": "python",
   "name": "python3"
  },
  "language_info": {
   "codemirror_mode": {
    "name": "ipython",
    "version": 3
   },
   "file_extension": ".py",
   "mimetype": "text/x-python",
   "name": "python",
   "nbconvert_exporter": "python",
   "pygments_lexer": "ipython3",
   "version": "3.8.8"
  }
 },
 "nbformat": 4,
 "nbformat_minor": 5
}
