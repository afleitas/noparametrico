{
 "cells": [
  {
   "cell_type": "code",
   "execution_count": 1,
   "id": "840ec2cc",
   "metadata": {},
   "outputs": [],
   "source": [
    "import pandas as pd\n",
    "import numpy as np"
   ]
  },
  {
   "cell_type": "markdown",
   "id": "49cbe363",
   "metadata": {},
   "source": [
    "Ejemplo de clase\n",
    "\n",
    "Cual debe ser el minimo tamaño de muestra n para estarun 95% seguro de que al menos el 90% de la poblacion esta en mi muestra?\n"
   ]
  },
  {
   "cell_type": "code",
   "execution_count": 23,
   "id": "84d394c1",
   "metadata": {},
   "outputs": [],
   "source": [
    "q=0.9"
   ]
  },
  {
   "cell_type": "code",
   "execution_count": 25,
   "id": "a67371d7",
   "metadata": {},
   "outputs": [
    {
     "data": {
      "text/plain": [
       "45"
      ]
     },
     "execution_count": 25,
     "metadata": {},
     "output_type": "execute_result"
    }
   ],
   "source": [
    "ns = []\n",
    "for x in range(0,100):\n",
    "    if q**x+x*(1-q)*(q**(x-1)) > 0.05:\n",
    "        ns.append(x)\n",
    "        \n",
    "max(ns)"
   ]
  },
  {
   "cell_type": "code",
   "execution_count": null,
   "id": "a26358ed",
   "metadata": {},
   "outputs": [],
   "source": []
  }
 ],
 "metadata": {
  "kernelspec": {
   "display_name": "Python 3 (ipykernel)",
   "language": "python",
   "name": "python3"
  },
  "language_info": {
   "codemirror_mode": {
    "name": "ipython",
    "version": 3
   },
   "file_extension": ".py",
   "mimetype": "text/x-python",
   "name": "python",
   "nbconvert_exporter": "python",
   "pygments_lexer": "ipython3",
   "version": "3.8.8"
  }
 },
 "nbformat": 4,
 "nbformat_minor": 5
}
