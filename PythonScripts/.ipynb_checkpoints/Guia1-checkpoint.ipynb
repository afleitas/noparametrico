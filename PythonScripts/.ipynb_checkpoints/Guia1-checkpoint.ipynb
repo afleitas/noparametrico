{
 "cells": [
  {
   "cell_type": "code",
   "execution_count": 1,
   "id": "7fdb0f10",
   "metadata": {},
   "outputs": [],
   "source": [
    "from utils import *"
   ]
  },
  {
   "cell_type": "code",
   "execution_count": 13,
   "id": "87edf71a",
   "metadata": {},
   "outputs": [],
   "source": [
    "import pandas as pd\n",
    "import numpy as np\n",
    "from scipy import stats\n",
    "from scipy.stats import binom\n",
    "from scipy.stats import binomtest\n",
    "import matplotlib.pyplot as plt\n"
   ]
  },
  {
   "cell_type": "markdown",
   "id": "63949e2d",
   "metadata": {},
   "source": [
    "Para calcular probabilidades con la binomial tengo\n",
    "\n",
    "* puntual :  binom.pmf(x, n, p)\n",
    "* acumulada : binom.cdf(x, n, p)"
   ]
  },
  {
   "cell_type": "markdown",
   "id": "de8ff78c",
   "metadata": {},
   "source": [
    "## Ejercicio 1 "
   ]
  },
  {
   "cell_type": "markdown",
   "id": "f97df1f3",
   "metadata": {},
   "source": [
    "Ho: p=0.7 \n",
    "\n",
    "H1: p<0.7"
   ]
  },
  {
   "cell_type": "code",
   "execution_count": 5,
   "id": "3b525ae0",
   "metadata": {},
   "outputs": [],
   "source": [
    "n = 15\n",
    "p = 0.7\n",
    "r = 7"
   ]
  },
  {
   "cell_type": "markdown",
   "id": "29fa85fa",
   "metadata": {},
   "source": [
    "** a - Calcular nivel de significacion del test**"
   ]
  },
  {
   "cell_type": "code",
   "execution_count": 13,
   "id": "baaaf907",
   "metadata": {},
   "outputs": [
    {
     "data": {
      "text/plain": [
       "0.05001254005377603"
      ]
     },
     "execution_count": 13,
     "metadata": {},
     "output_type": "execute_result"
    }
   ],
   "source": [
    "# se rechaza cuando T<=7, alfa sera la probabildiad de reachazar H0 con H0 verdadera, entonces\n",
    "\n",
    "alfa = binom.cdf(7,n,p)\n",
    "alfa"
   ]
  },
  {
   "cell_type": "markdown",
   "id": "b3d2b641",
   "metadata": {},
   "source": [
    "**b - Funcion de potencia y probabilidad tipo 2 con p=0.5 y p=0.3**"
   ]
  },
  {
   "cell_type": "markdown",
   "id": "6ac64ee8",
   "metadata": {},
   "source": [
    "Potencia, probabilidad de rechazar Ho con Ho Falsa"
   ]
  },
  {
   "cell_type": "code",
   "execution_count": 16,
   "id": "d568a61b",
   "metadata": {},
   "outputs": [
    {
     "name": "stdout",
     "output_type": "stream",
     "text": [
      "0.5000000000000001 0.949987459946224\n"
     ]
    }
   ],
   "source": [
    "potencia_1 = binom.cdf(7,n,0.5)\n",
    "potencia_2 = binom.cdf(7,n,0.3)\n",
    "print(potencia_1,potencia_2)"
   ]
  },
  {
   "cell_type": "code",
   "execution_count": 24,
   "id": "50ab9c6c",
   "metadata": {},
   "outputs": [
    {
     "data": {
      "text/plain": [
       "<matplotlib.collections.PathCollection at 0x1ee23e60790>"
      ]
     },
     "execution_count": 24,
     "metadata": {},
     "output_type": "execute_result"
    },
    {
     "data": {
      "image/png": "[encoded data removed]",
      "text/plain": [
       "<Figure size 432x288 with 1 Axes>"
      ]
     },
     "metadata": {
      "needs_background": "light"
     },
     "output_type": "display_data"
    }
   ],
   "source": [
    "# No lo pide pero dibujo una funcion de potencia para ver como quedaria para mas valores de p posibles dentro de H1\n",
    "\n",
    "potencias = []\n",
    "xs = []\n",
    "for x in np.linspace(0.1, 0.7, num=100):\n",
    "    xs.append(x)\n",
    "    potencias.append(binom.cdf(7,n,x))\n",
    "plt.scatter(xs,potencias)"
   ]
  },
  {
   "cell_type": "markdown",
   "id": "a0d10256",
   "metadata": {},
   "source": [
    "**c - Si en una muestra de tamaño 15 se obtuvieron 9 respuestas exitosas, concluir acerca del valor de\n",
    "p. ¿Que tipo de error puede cometerse al llegar a esa conclusion?**"
   ]
  },
  {
   "cell_type": "markdown",
   "id": "41c28fb7",
   "metadata": {},
   "source": [
    "Uso las dos formas"
   ]
  },
  {
   "cell_type": "code",
   "execution_count": 31,
   "id": "65f9139c",
   "metadata": {},
   "outputs": [
    {
     "data": {
      "text/plain": [
       "BinomTestResult(k=9, n=15, alternative='less', proportion_estimate=0.6, pvalue=0.2783785597956361)"
      ]
     },
     "execution_count": 31,
     "metadata": {},
     "output_type": "execute_result"
    }
   ],
   "source": [
    "binomtest(9, n=15, p=0.7, alternative='less')\n"
   ]
  },
  {
   "cell_type": "code",
   "execution_count": 32,
   "id": "db54f6ab",
   "metadata": {},
   "outputs": [
    {
     "data": {
      "text/plain": [
       "{'nivel_significacion': 0.05001254005377603,\n",
       " 'k': 8,\n",
       " 'p_estimado': 0.6,\n",
       " 'pvalor': 0.2783785597956361}"
      ]
     },
     "execution_count": 32,
     "metadata": {},
     "output_type": "execute_result"
    }
   ],
   "source": [
    "test_binomial(9,15,0.7,alfa,\"izquierda\")"
   ]
  },
  {
   "cell_type": "markdown",
   "id": "ffdb65ca",
   "metadata": {},
   "source": [
    "Como el p valor > alfa entonces, no rechazo H0. Como no rechace Ho, puede ser que este aceptando H0 siendo esta falsa, puedo estar cometiendo el error tipo 2."
   ]
  },
  {
   "cell_type": "markdown",
   "id": "db0cfd1b",
   "metadata": {},
   "source": [
    "## Ejercicio 2"
   ]
  },
  {
   "cell_type": "markdown",
   "id": "5debe9fd",
   "metadata": {},
   "source": [
    "Ho: p=0.5\n",
    "\n",
    "H1: p<>0.5"
   ]
  },
  {
   "cell_type": "markdown",
   "id": "063cc257",
   "metadata": {},
   "source": [
    "**a - Calcular nivel de significacion del test siendo la zona de rechazo X<=2 O X>=8, es el mejor test de nivel alfa?**"
   ]
  },
  {
   "cell_type": "markdown",
   "id": "a22ae4e8",
   "metadata": {},
   "source": [
    "Como es un test a dos colas, sabemos que no puede ser UMP, pero si dentro de los insesgados ser UMP, es decir, ser IUMP"
   ]
  },
  {
   "cell_type": "code",
   "execution_count": 10,
   "id": "7fa6cf6a",
   "metadata": {},
   "outputs": [],
   "source": [
    "n = 10\n",
    "p = 0.5"
   ]
  },
  {
   "cell_type": "code",
   "execution_count": 11,
   "id": "742b17b0",
   "metadata": {},
   "outputs": [
    {
     "data": {
      "text/plain": [
       "0.109375"
      ]
     },
     "execution_count": 11,
     "metadata": {},
     "output_type": "execute_result"
    }
   ],
   "source": [
    "# alfa = pbinom(X=2 U X>=8)\n",
    "\n",
    "alfa = binom.cdf(2,n,p)+(1-binom.cdf(7,n,p))\n",
    "alfa"
   ]
  },
  {
   "cell_type": "code",
   "execution_count": null,
   "id": "4d1e6e33",
   "metadata": {},
   "outputs": [],
   "source": [
    "# hay q buscar un nivel alfa aceptable, buscando por ejemplo Xs que tengan un alfa de 0.05 o menos, luego\n",
    "# para un alfa dado compararlo con la funcion de pontencia\n",
    " "
   ]
  },
  {
   "cell_type": "code",
   "execution_count": null,
   "id": "96718a15",
   "metadata": {},
   "outputs": [],
   "source": []
  },
  {
   "cell_type": "markdown",
   "id": "c799ac90",
   "metadata": {},
   "source": [
    "** b- en una muestra de 10 se obtuvieron 9 exitos, deberian ofrecerse ambas grabaciones? que error se puede estar cometiendo? calcular el p valor**"
   ]
  },
  {
   "cell_type": "code",
   "execution_count": 12,
   "id": "2d1c5a5c",
   "metadata": {},
   "outputs": [],
   "source": [
    "n = 10\n",
    "r = 9"
   ]
  },
  {
   "cell_type": "code",
   "execution_count": 10,
   "id": "06395c54",
   "metadata": {},
   "outputs": [
    {
     "data": {
      "text/plain": [
       "0.9"
      ]
     },
     "execution_count": 10,
     "metadata": {},
     "output_type": "execute_result"
    }
   ],
   "source": [
    "psombrero = r/n\n",
    "psombrero"
   ]
  },
  {
   "cell_type": "code",
   "execution_count": 15,
   "id": "88bae441",
   "metadata": {},
   "outputs": [
    {
     "data": {
      "text/plain": [
       "BinomTestResult(k=9, n=10, alternative='two-sided', proportion_estimate=0.9, pvalue=0.021484375)"
      ]
     },
     "execution_count": 15,
     "metadata": {},
     "output_type": "execute_result"
    }
   ],
   "source": [
    "# Uso el test binomial bilateral\n",
    "\n",
    "binomtest(r, n, p, alternative='two-sided')\n"
   ]
  },
  {
   "cell_type": "markdown",
   "id": "1c40b032",
   "metadata": {},
   "source": [
    "como el p valor = 0.62 > alfa, entonces no Rho, como no rechazo H0, no tengo evidencias para rechazar Ho, ambas grabaciones deberan ser ofrecidas.\n",
    "\n",
    "Aca se puede estar cometiendo el error tipo 2, aceptar H0 siendo Ho falsa"
   ]
  },
  {
   "cell_type": "code",
   "execution_count": 17,
   "id": "13845ef6",
   "metadata": {},
   "outputs": [
    {
     "data": {
      "text/plain": [
       "{'nivel_significacion': 0.0546875,\n",
       " 'k': 3,\n",
       " 'p_estimado': 0.9,\n",
       " 'pvalor': 1.998046875}"
      ]
     },
     "execution_count": 17,
     "metadata": {},
     "output_type": "execute_result"
    }
   ],
   "source": [
    "test_binomial(r,n,p,alfa,\"bilateral\")\n",
    "# ojo ver que paso aca con el pvalor, debe estar fallando a dos colas la funcion"
   ]
  },
  {
   "cell_type": "markdown",
   "id": "a0117f8a",
   "metadata": {},
   "source": [
    "** c - Construir un test de nivel 0.01 para las hipotesis planteadas**"
   ]
  },
  {
   "cell_type": "code",
   "execution_count": null,
   "id": "ca31d36e",
   "metadata": {},
   "outputs": [],
   "source": [
    "# consultar, en este caso se tiene q mantener el n se supone, lo unico que deberia cambiar es la zona de rechazo no?\n",
    "# la zona de rechazo tiene q ser a dos colas no? "
   ]
  },
  {
   "cell_type": "code",
   "execution_count": 22,
   "id": "1d55a401",
   "metadata": {},
   "outputs": [
    {
     "data": {
      "text/plain": [
       "0.01171875"
      ]
     },
     "execution_count": 22,
     "metadata": {},
     "output_type": "execute_result"
    }
   ],
   "source": [
    "alfa = binom.cdf(1,n,p) + (1-binom.cdf(9,n,p))\n",
    "alfa"
   ]
  },
  {
   "cell_type": "markdown",
   "id": "5ec9ef59",
   "metadata": {},
   "source": [
    "Nueva zona de rechazo, se rechaza Ho si X<=1 o X>=10"
   ]
  },
  {
   "cell_type": "markdown",
   "id": "8f0b2639",
   "metadata": {},
   "source": [
    "## Ejercicio 3"
   ]
  },
  {
   "cell_type": "code",
   "execution_count": 12,
   "id": "d3ca40e3",
   "metadata": {},
   "outputs": [],
   "source": [
    "muestra = [142,134,798,119,131,103,154,122,93,137,86,119,161,144,158,165,81,117,128,103]\n",
    "muestra = np.sort(muestra)\n",
    "n = len(muestra)\n",
    "p = 0.5\n",
    "alfa = 0.05"
   ]
  },
  {
   "cell_type": "markdown",
   "id": "733a8703",
   "metadata": {},
   "source": [
    "a - Intervalo de confianza para Fx(100) con nivel 0.95"
   ]
  },
  {
   "cell_type": "markdown",
   "id": "65d143fe",
   "metadata": {},
   "source": [
    "Es un intervalo de confianza para la proporcion, voy a usar la funcion que tengo en utils para esto, la idea es hacerlo para multiples ps iterando\n",
    "\n",
    "Necesito, alfa, ps, r y n. "
   ]
  },
  {
   "cell_type": "code",
   "execution_count": 59,
   "id": "e6f2327c",
   "metadata": {},
   "outputs": [
    {
     "data": {
      "text/plain": [
       "3"
      ]
     },
     "execution_count": 59,
     "metadata": {},
     "output_type": "execute_result"
    }
   ],
   "source": [
    "# En este caso r es el numero de elementos de la muestra con tamaño menor o igual a 100 (consultar)\n",
    "\n",
    "rs = []\n",
    "for x in muestra:\n",
    "    if x<=100:\n",
    "        rs.append(x)\n",
    "r = len(rs)\n",
    "r"
   ]
  },
  {
   "cell_type": "code",
   "execution_count": 70,
   "id": "4cf09255",
   "metadata": {},
   "outputs": [],
   "source": [
    "ps = np.linspace(0,1,1001)"
   ]
  },
  {
   "cell_type": "code",
   "execution_count": 71,
   "id": "22926b6b",
   "metadata": {},
   "outputs": [
    {
     "data": {
      "text/plain": [
       "{'Li': 0.032, 'Ls': 0.378}"
      ]
     },
     "execution_count": 71,
     "metadata": {},
     "output_type": "execute_result"
    }
   ],
   "source": [
    "binomial_interval(0.025,ps,3,20)"
   ]
  },
  {
   "cell_type": "markdown",
   "id": "b45efec5",
   "metadata": {},
   "source": [
    "b - Prueba para la mediana para ver si es 103 o no\n",
    "\n",
    "Region de rechazo: T1<=k1 o T2>k2, con T1 y T2 distribucion binomial n,p=0.5, bajo Ho "
   ]
  },
  {
   "cell_type": "code",
   "execution_count": 40,
   "id": "d50b96ba",
   "metadata": {},
   "outputs": [
    {
     "data": {
      "text/plain": [
       "[5, 14]"
      ]
     },
     "execution_count": 40,
     "metadata": {},
     "output_type": "execute_result"
    }
   ],
   "source": [
    "ks1 = []\n",
    "ks2 = []\n",
    "\n",
    "for x in range(n+1):\n",
    "    if binom.cdf(x,n,p)<=(alfa/2):\n",
    "        ks1.append(x)\n",
    "k1 = max(ks1)\n",
    "\n",
    "for x in range(n+1):\n",
    "    if binom.cdf(x,n,p)<=(1-alfa/2):\n",
    "        ks2.append(x)\n",
    "k2 = max(ks2)+1   \n",
    "\n",
    "[k1,k2]"
   ]
  },
  {
   "cell_type": "markdown",
   "id": "b0902a0e",
   "metadata": {},
   "source": [
    "c - Intervalo de confianza a nivel 0.9 para la mediana     "
   ]
  },
  {
   "cell_type": "markdown",
   "id": "ee6e594a",
   "metadata": {},
   "source": [
    "Necesito r y s tal que\n",
    "\n",
    "P(M<=r-1) = 0.025\n",
    "P(M>=s) = 0.025, que este ultimo es equivalente a P(M<=s-1) = 0.975"
   ]
  },
  {
   "cell_type": "code",
   "execution_count": 14,
   "id": "86e8bd72",
   "metadata": {},
   "outputs": [],
   "source": [
    "alfa = 0.1"
   ]
  },
  {
   "cell_type": "code",
   "execution_count": 30,
   "id": "9ec64930",
   "metadata": {},
   "outputs": [
    {
     "data": {
      "text/plain": [
       "'las posiciones a buscar en la lista son [6, 14] con confianza 0.9216461181640625'"
      ]
     },
     "execution_count": 30,
     "metadata": {},
     "output_type": "execute_result"
    }
   ],
   "source": [
    "r_1 = []\n",
    "s_1 = []\n",
    "alfa1= []\n",
    "alfa2=[]\n",
    "\n",
    "for x in range(n+1):\n",
    "    if binom.cdf(x,n,p)<=(alfa/2):\n",
    "#        print(binom.cdf(x,n,p))\n",
    "        r_1.append(x)\n",
    "        alfa1.append(binom.cdf(x,n,p))\n",
    "r = max(r_1)+1\n",
    "\n",
    "for x in range(n+1):\n",
    "    if binom.cdf(x,n,p)<=(1-alfa/2):\n",
    "        s_1.append(x)\n",
    "        alfa2.append(binom.cdf(x,n,p))\n",
    "\n",
    "s = max(s_1)+1\n",
    "\n",
    "posicion = [r,s]\n",
    "alfa = 1-max(alfa2)+max(alfa1)\n",
    "\n",
    "f\"las posiciones a buscar en la lista son {posicion} con confianza {1-alfa}\""
   ]
  },
  {
   "cell_type": "code",
   "execution_count": 28,
   "id": "bfb82a4c",
   "metadata": {},
   "outputs": [
    {
     "data": {
      "text/plain": [
       "0.020694732666015625"
      ]
     },
     "execution_count": 28,
     "metadata": {},
     "output_type": "execute_result"
    }
   ],
   "source": []
  },
  {
   "cell_type": "code",
   "execution_count": 16,
   "id": "378bb9d5",
   "metadata": {},
   "outputs": [
    {
     "data": {
      "text/plain": [
       "array([ 81,  86,  93, 103, 103, 117, 119, 119, 122, 128, 131, 134, 137,\n",
       "       142, 144, 154, 158, 161, 165, 798])"
      ]
     },
     "execution_count": 16,
     "metadata": {},
     "output_type": "execute_result"
    }
   ],
   "source": [
    "muestra"
   ]
  },
  {
   "cell_type": "code",
   "execution_count": 21,
   "id": "8502143c",
   "metadata": {},
   "outputs": [
    {
     "data": {
      "text/plain": [
       "(117, 142)"
      ]
     },
     "execution_count": 21,
     "metadata": {},
     "output_type": "execute_result"
    }
   ],
   "source": [
    "# Ojo, hay que tener cuidado con los indices de la lista, por eso le resto uno.\n",
    "\n",
    "li = muestra[posicion[0]-1]\n",
    "ls = muestra[posicion[1]-1]\n",
    "\n",
    "li,ls"
   ]
  },
  {
   "cell_type": "markdown",
   "id": "8a4e8c68",
   "metadata": {},
   "source": [
    "## Ejercicio 4"
   ]
  },
  {
   "cell_type": "markdown",
   "id": "1c211bf0",
   "metadata": {},
   "source": [
    "En un juego se tiro 180 veces un par de dados y 38 veces se obtuvo que la suma de los valores observados era igual a 7. Hallar un intervalo de confianza de nivel 0.95 para P(X = 7), siendo X la suma de los valores observados. ¿Hay razones para creer que los dados no estan equilibrados?"
   ]
  },
  {
   "cell_type": "code",
   "execution_count": 6,
   "id": "646f94e1",
   "metadata": {},
   "outputs": [
    {
     "data": {
      "text/plain": [
       "0.2111111111111111"
      ]
     },
     "execution_count": 6,
     "metadata": {},
     "output_type": "execute_result"
    }
   ],
   "source": [
    "ps = np.linspace(0,1,1001)\n",
    "r = 38\n",
    "n = 180\n",
    "psombrero = r/n\n",
    "psombrero"
   ]
  },
  {
   "cell_type": "code",
   "execution_count": 5,
   "id": "d423c781",
   "metadata": {},
   "outputs": [
    {
     "data": {
      "text/plain": [
       "{'Li': 0.153, 'Ls': 0.278}"
      ]
     },
     "execution_count": 5,
     "metadata": {},
     "output_type": "execute_result"
    }
   ],
   "source": [
    "binomial_interval(0.025,ps,r,n)"
   ]
  },
  {
   "cell_type": "code",
   "execution_count": 7,
   "id": "aa3e2316",
   "metadata": {},
   "outputs": [],
   "source": [
    "# tiene sentido porque en un test para p = 0.5 estariamos rechazando H0, ya que los valores de los limites no contienen a 0.5\n",
    "\n",
    "# consultar\n"
   ]
  },
  {
   "cell_type": "markdown",
   "id": "d2e5f91e",
   "metadata": {},
   "source": [
    "## Ejercicio 5"
   ]
  },
  {
   "cell_type": "markdown",
   "id": "5530cd6e",
   "metadata": {},
   "source": [
    "\n",
    "¿Cual debe ser el tamaño de una muestra para tener un 90 % de seguridad de que el rango muestral incluye al menos al 95 % de la poblacion?"
   ]
  },
  {
   "cell_type": "code",
   "execution_count": null,
   "id": "e8cf4c49",
   "metadata": {},
   "outputs": [],
   "source": []
  },
  {
   "cell_type": "code",
   "execution_count": null,
   "id": "efa19a10",
   "metadata": {},
   "outputs": [],
   "source": []
  },
  {
   "cell_type": "code",
   "execution_count": null,
   "id": "13378f43",
   "metadata": {},
   "outputs": [],
   "source": []
  },
  {
   "cell_type": "code",
   "execution_count": null,
   "id": "dda3b88d",
   "metadata": {},
   "outputs": [],
   "source": []
  },
  {
   "cell_type": "code",
   "execution_count": null,
   "id": "6d0e5428",
   "metadata": {},
   "outputs": [],
   "source": []
  },
  {
   "cell_type": "code",
   "execution_count": null,
   "id": "6ba247b1",
   "metadata": {},
   "outputs": [],
   "source": []
  },
  {
   "cell_type": "code",
   "execution_count": null,
   "id": "2e739384",
   "metadata": {},
   "outputs": [],
   "source": []
  },
  {
   "cell_type": "code",
   "execution_count": null,
   "id": "6d418cfe",
   "metadata": {},
   "outputs": [],
   "source": []
  },
  {
   "cell_type": "code",
   "execution_count": null,
   "id": "01ddb472",
   "metadata": {},
   "outputs": [],
   "source": []
  },
  {
   "cell_type": "markdown",
   "id": "6fdbffc0",
   "metadata": {},
   "source": [
    "## Ejercicio 6"
   ]
  },
  {
   "cell_type": "markdown",
   "id": "50799037",
   "metadata": {},
   "source": [
    "¿Cual debe ser el tamaño de la muestra para que con probabilidad 0.95, el 99 % de la poblacion sea mayor o igual que x(2)?"
   ]
  },
  {
   "cell_type": "code",
   "execution_count": null,
   "id": "375c3cc4",
   "metadata": {},
   "outputs": [],
   "source": []
  },
  {
   "cell_type": "code",
   "execution_count": null,
   "id": "e7087900",
   "metadata": {},
   "outputs": [],
   "source": []
  },
  {
   "cell_type": "code",
   "execution_count": null,
   "id": "fd4467a4",
   "metadata": {},
   "outputs": [],
   "source": []
  },
  {
   "cell_type": "code",
   "execution_count": null,
   "id": "d54127bc",
   "metadata": {},
   "outputs": [],
   "source": []
  },
  {
   "cell_type": "code",
   "execution_count": null,
   "id": "1df5acd2",
   "metadata": {},
   "outputs": [],
   "source": []
  },
  {
   "cell_type": "code",
   "execution_count": null,
   "id": "9cec5301",
   "metadata": {},
   "outputs": [],
   "source": []
  },
  {
   "cell_type": "code",
   "execution_count": null,
   "id": "888d2bb9",
   "metadata": {},
   "outputs": [],
   "source": []
  },
  {
   "cell_type": "code",
   "execution_count": null,
   "id": "ab9d6e4c",
   "metadata": {},
   "outputs": [],
   "source": []
  }
 ],
 "metadata": {
  "kernelspec": {
   "display_name": "Python 3 (ipykernel)",
   "language": "python",
   "name": "python3"
  },
  "language_info": {
   "codemirror_mode": {
    "name": "ipython",
    "version": 3
   },
   "file_extension": ".py",
   "mimetype": "text/x-python",
   "name": "python",
   "nbconvert_exporter": "python",
   "pygments_lexer": "ipython3",
   "version": "3.8.8"
  }
 },
 "nbformat": 4,
 "nbformat_minor": 5
}
